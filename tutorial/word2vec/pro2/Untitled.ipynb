{
 "cells": [
  {
   "cell_type": "code",
   "execution_count": 1,
   "metadata": {
    "collapsed": false
   },
   "outputs": [
    {
     "name": "stdout",
     "output_type": "stream",
     "text": [
      "(199714, 15)\n",
      "bm_waybill_id                 int64\n",
      "bm_delivery_area_id           int64\n",
      "rider_id                      int64\n",
      "recipient_lng                 int64\n",
      "recipient_lat                 int64\n",
      "platform_poi_id               int64\n",
      "ctime                         int64\n",
      "finished_time                 int64\n",
      "delivery_distance           float64\n",
      "delivery_distance_source    float64\n",
      "poi_class_id                float64\n",
      "recipient_class_id            int64\n",
      "distance                    float64\n",
      "wb_dt                         int64\n",
      "ctime_hour                    int64\n",
      "dtype: object\n",
      "(181411, 15)\n",
      "Index([u'bm_waybill_id', u'bm_delivery_area_id', u'rider_id', u'recipient_lng',\n",
      "       u'recipient_lat', u'platform_poi_id', u'ctime', u'finished_time',\n",
      "       u'delivery_distance', u'delivery_distance_source', u'poi_class_id',\n",
      "       u'recipient_class_id', u'distance', u'wb_dt', u'ctime_hour'],\n",
      "      dtype='object')\n",
      "(53479, 15)\n",
      "wbf_list_df.shape: (34116, 1)\n"
     ]
    }
   ],
   "source": [
    "\n",
    "#预处理数据\n",
    "rawDataDir='/Users/leidelong/work/projects/knowledge_graph/2002445_1month.txt'\n",
    "import pandas as pd\n",
    "import csv\n",
    "df=pd.read_csv(rawDataDir,sep='\t')\n",
    "\n",
    "print df.shape\n",
    "print df.dtypes\n",
    "df=df[ (df['poi_class_id'] >=0 ) & (  df['recipient_class_id'] >=0 )]\n",
    "print df.shape\n",
    "print df.columns\n",
    "\n",
    "df=df[(df['ctime_hour']>=11) & (df['ctime_hour']<=13)]\n",
    "df.sort_values([\"ctime\"],ascending=True)\n",
    "print df.shape\n",
    "wbf_list_df = pd.DataFrame(columns=['waybillflowlist'])\n",
    "\n",
    "for waybill_index in df.index:\n",
    "    # print \"已扫描运单索引：\",waybill_index\n",
    "    tmp_ctime=df.at[waybill_index,\"ctime\"]\n",
    "    tmp_rider=df.at[waybill_index,\"rider_id\"]\n",
    "    tmp_wb_dt=df.at[waybill_index,\"wb_dt\"]\n",
    "\n",
    "\n",
    "    wbf_list_tmp_str =\"\"\n",
    "    new_df=df[ (df[\"ctime\"]<tmp_ctime) & (df[\"finished_time\"]>tmp_ctime) & (df[\"rider_id\"]==tmp_rider) & (df[\"wb_dt\"]==tmp_wb_dt) ]\n",
    "    for tt_index in new_df.index:\n",
    "        # wbf=new_df.loc[new_df[\"ctime\"]==tt_w, \"bm_delivery_area_id\"]\n",
    "        wbf_area_id = new_df.at[tt_index, \"bm_delivery_area_id\"]\n",
    "        wbf_poi_class_id = new_df.at[tt_index, \"poi_class_id\"]\n",
    "        wbf_recipient_class_id = new_df.at[tt_index, \"recipient_class_id\"]\n",
    "        wbf_list_tmp_str=wbf_list_tmp_str+\",\"+str(wbf_area_id)+\"_\"+str(wbf_poi_class_id)+\"_\"+str(wbf_recipient_class_id)\n",
    "    if(\"\" <>wbf_list_tmp_str):\n",
    "        wbf_list_df.loc[wbf_list_df.shape[0] + 1] = wbf_list_tmp_str\n",
    "\n",
    "\n",
    "print \"wbf_list_df.shape:\",wbf_list_df.shape"
   ]
  },
  {
   "cell_type": "code",
   "execution_count": 3,
   "metadata": {
    "collapsed": false
   },
   "outputs": [
    {
     "data": {
      "text/html": [
       "<div>\n",
       "<style>\n",
       "    .dataframe thead tr:only-child th {\n",
       "        text-align: right;\n",
       "    }\n",
       "\n",
       "    .dataframe thead th {\n",
       "        text-align: left;\n",
       "    }\n",
       "\n",
       "    .dataframe tbody tr th {\n",
       "        vertical-align: top;\n",
       "    }\n",
       "</style>\n",
       "<table border=\"1\" class=\"dataframe\">\n",
       "  <thead>\n",
       "    <tr style=\"text-align: right;\">\n",
       "      <th></th>\n",
       "      <th>waybillflowlist</th>\n",
       "    </tr>\n",
       "  </thead>\n",
       "  <tbody>\n",
       "    <tr>\n",
       "      <th>1</th>\n",
       "      <td>,2002445_2.0_5</td>\n",
       "    </tr>\n",
       "    <tr>\n",
       "      <th>2</th>\n",
       "      <td>,2002445_2.0_1,2002445_2.0_1</td>\n",
       "    </tr>\n",
       "    <tr>\n",
       "      <th>3</th>\n",
       "      <td>,2002445_1.0_21</td>\n",
       "    </tr>\n",
       "    <tr>\n",
       "      <th>4</th>\n",
       "      <td>,2002445_3.0_19,2002445_3.0_23</td>\n",
       "    </tr>\n",
       "    <tr>\n",
       "      <th>5</th>\n",
       "      <td>,2002445_1.0_22</td>\n",
       "    </tr>\n",
       "  </tbody>\n",
       "</table>\n",
       "</div>"
      ],
      "text/plain": [
       "                  waybillflowlist\n",
       "1                  ,2002445_2.0_5\n",
       "2    ,2002445_2.0_1,2002445_2.0_1\n",
       "3                 ,2002445_1.0_21\n",
       "4  ,2002445_3.0_19,2002445_3.0_23\n",
       "5                 ,2002445_1.0_22"
      ]
     },
     "execution_count": 3,
     "metadata": {},
     "output_type": "execute_result"
    }
   ],
   "source": [
    "wbf_list_df.head()"
   ]
  },
  {
   "cell_type": "code",
   "execution_count": 5,
   "metadata": {
    "collapsed": false
   },
   "outputs": [],
   "source": [
    "wbf_list_df.to_csv('/Users/leidelong/work/projects/knowledge_graph/2002445_full_waybill_ids.txt', sep=' ',index=False,quoting=csv.QUOTE_NONE)\n"
   ]
  },
  {
   "cell_type": "code",
   "execution_count": null,
   "metadata": {
    "collapsed": true
   },
   "outputs": [],
   "source": []
  }
 ],
 "metadata": {
  "kernelspec": {
   "display_name": "Python 2",
   "language": "python",
   "name": "python2"
  },
  "language_info": {
   "codemirror_mode": {
    "name": "ipython",
    "version": 2
   },
   "file_extension": ".py",
   "mimetype": "text/x-python",
   "name": "python",
   "nbconvert_exporter": "python",
   "pygments_lexer": "ipython2",
   "version": "2.7.10"
  }
 },
 "nbformat": 4,
 "nbformat_minor": 0
}
