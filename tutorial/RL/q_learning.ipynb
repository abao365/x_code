{
 "cells": [
  {
   "cell_type": "code",
   "execution_count": 20,
   "metadata": {
    "collapsed": true
   },
   "outputs": [],
   "source": [
    "# -*- coding: utf-8 -*-\n",
    "\n",
    "# Author: Kyle Kastner\n",
    "# License: BSD 3-Clause\n",
    "# Implementing http://mnemstudio.org/path-finding-q-learning-tutorial.htm\n",
    "# Q-learning formula from http://sarvagyavaish.github.io/FlappyBirdRL/\n",
    "# Visualization based on code from Gael Varoquaux gael.varoquaux@normalesup.org\n",
    "# http://scikit-learn.org/stable/auto_examples/applications/plot_stock_market.html\n",
    "\n",
    "import numpy as np\n",
    "import matplotlib.pyplot as plt\n",
    "from matplotlib.collections import LineCollection\n"
   ]
  },
  {
   "cell_type": "code",
   "execution_count": 21,
   "metadata": {
    "collapsed": false
   },
   "outputs": [
    {
     "name": "stdout",
     "output_type": "stream",
     "text": [
      "-1.0\n"
     ]
    }
   ],
   "source": [
    "# defines the reward/connection graph\n",
    "r = np.array([[-1, -1, -1, -1,  0,  -1],\n",
    "              [-1, -1, -1,  0, -1, 100],\n",
    "              [-1, -1, -1,  0, -1,  -1],\n",
    "              [-1,  0,  0, -1,  0,  -1],\n",
    "              [ 0, -1, -1,  0, -1, 100],\n",
    "              [-1,  0, -1, -1,  0, 100]]).astype(\"float32\")\n",
    "q = np.zeros_like(r)\n",
    "print r[0][0]"
   ]
  },
  {
   "cell_type": "code",
   "execution_count": 22,
   "metadata": {
    "collapsed": true
   },
   "outputs": [],
   "source": [
    "#更新Q矩阵\n",
    "#参数含义：当前状态state采用动作action达到状态next_state，通过这些参数计算当前状态的新Q值并赋值给Q表\n",
    "def update_q(state, next_state, action, alpha, gamma):\n",
    "    rsa = r[state, action]\n",
    "    qsa = q[state, action]\n",
    "    new_q = qsa + alpha * (rsa + gamma * max(q[next_state, :]) - qsa)\n",
    "    q[state, action] = new_q\n",
    "    # renormalize row to be between 0 and 1\n",
    "    rn = q[state][q[state] > 0] / np.sum(q[state][q[state] > 0])\n",
    "    q[state][q[state] > 0] = rn\n",
    "    return r[state, action]"
   ]
  },
  {
   "cell_type": "code",
   "execution_count": 23,
   "metadata": {
    "collapsed": true
   },
   "outputs": [],
   "source": [
    "#给所有起始点规划路径\n",
    "def show_traverse():\n",
    "    # show all the greedy traversals\n",
    "    for i in range(len(q)):\n",
    "        current_state = i\n",
    "        traverse = \"%i -> \" % current_state\n",
    "        n_steps = 0\n",
    "        while current_state != 5 and n_steps < 20:\n",
    "            next_state = np.argmax(q[current_state])\n",
    "            current_state = next_state\n",
    "            traverse += \"%i -> \" % current_state\n",
    "            n_steps = n_steps + 1\n",
    "        # cut off final arrow\n",
    "        traverse = traverse[:-4]\n",
    "        print(\"Greedy traversal for starting state %i\" % i)\n",
    "        print(traverse)\n",
    "        print(\"\")\n"
   ]
  },
  {
   "cell_type": "code",
   "execution_count": 24,
   "metadata": {
    "collapsed": true
   },
   "outputs": [],
   "source": [
    "# Core algorithm\n",
    "gamma = 0.8\n",
    "alpha = 1.\n",
    "n_episodes = 1E3\n",
    "n_states = 6\n",
    "n_actions = 6\n",
    "epsilon = 0.05\n",
    "random_state = np.random.RandomState(1999)\n"
   ]
  },
  {
   "cell_type": "code",
   "execution_count": 27,
   "metadata": {
    "collapsed": false
   },
   "outputs": [
    {
     "name": "stdout",
     "output_type": "stream",
     "text": [
      "[[  0.00000000e+00   0.00000000e+00   0.00000000e+00   0.00000000e+00\n",
      "    1.00000000e+00   0.00000000e+00]\n",
      " [  0.00000000e+00   0.00000000e+00   0.00000000e+00   0.00000000e+00\n",
      "    0.00000000e+00   1.00000000e+00]\n",
      " [  0.00000000e+00   0.00000000e+00   0.00000000e+00   1.00000000e+00\n",
      "    0.00000000e+00   0.00000000e+00]\n",
      " [  0.00000000e+00   7.99844801e-01   6.03799708e-03   0.00000000e+00\n",
      "    1.94117308e-01   0.00000000e+00]\n",
      " [  0.00000000e+00   0.00000000e+00   0.00000000e+00   2.80259693e-45\n",
      "    0.00000000e+00   1.00000000e+00]\n",
      " [  0.00000000e+00   3.90896834e-33   0.00000000e+00   0.00000000e+00\n",
      "    0.00000000e+00   1.00000000e+00]]\n",
      "-------\n",
      "Greedy traversal for starting state 0\n",
      "0 -> 4 -> 5\n",
      "\n",
      "Greedy traversal for starting state 1\n",
      "1 -> 5\n",
      "\n",
      "Greedy traversal for starting state 2\n",
      "2 -> 3 -> 1 -> 5\n",
      "\n",
      "Greedy traversal for starting state 3\n",
      "3 -> 1 -> 5\n",
      "\n",
      "Greedy traversal for starting state 4\n",
      "4 -> 5\n",
      "\n",
      "Greedy traversal for starting state 5\n",
      "5\n",
      "\n"
     ]
    }
   ],
   "source": [
    "# Core algorithm\n",
    "gamma = 0.8\n",
    "alpha = 1.\n",
    "n_episodes = 1E3\n",
    "n_states = 6\n",
    "n_actions = 6\n",
    "epsilon = 0.05\n",
    "random_state = np.random.RandomState(1999)\n",
    "for e in range(int(n_episodes)):\n",
    "    states = list(range(n_states))\n",
    "    random_state.shuffle(states)\n",
    "    current_state = states[0]\n",
    "    goal = False\n",
    "    \n",
    "    #查看中间运行过程\n",
    "    if e % int(n_episodes / 10.) == 0 and e > 0:\n",
    "        pass\n",
    "        # uncomment this to see plots each monitoring\n",
    "        #show_traverse()\n",
    "        #show_q()\n",
    "        \n",
    "    #在每一个episode中，执行以下操作，直到达到目标\n",
    "    while not goal:\n",
    "        # epsilon greedy\n",
    "        valid_moves = r[current_state] >= 0\n",
    "        \n",
    "        #5%的概率执行以下操作\n",
    "        #从R表中随机选取一个该状态的动作\n",
    "        if random_state.rand() < epsilon:\n",
    "            actions = np.array(list(range(n_actions)))\n",
    "            #可行动序列\n",
    "            actions = actions[valid_moves == True]\n",
    "            if type(actions) is int:\n",
    "                actions = [actions]\n",
    "            #随机\n",
    "            random_state.shuffle(actions)\n",
    "            action = actions[0]\n",
    "            next_state = action\n",
    "        #95%的概率执行以下操作\n",
    "        else:\n",
    "            #如果Q表中该状态存在非零动作值，选取对应动作\n",
    "            if np.sum(q[current_state]) > 0:\n",
    "                action = np.argmax(q[current_state])\n",
    "            #否则，借助R表随机选取一个动作\n",
    "            else:\n",
    "                # Don't allow invalid moves at the start\n",
    "                # Just take a random move\n",
    "                actions = np.array(list(range(n_actions)))\n",
    "                actions = actions[valid_moves == True]\n",
    "                random_state.shuffle(actions)\n",
    "                action = actions[0]\n",
    "            next_state = action\n",
    "        #action和next_state是一致的 e.g.采用第四个动作，就会进入第四个状态\n",
    "        reward = update_q(current_state, next_state, action,\n",
    "                          alpha=alpha, gamma=gamma)\n",
    "        \n",
    "        # Goal state has reward 100\n",
    "        if reward > 1:\n",
    "            goal = True\n",
    "        current_state = next_state\n",
    "\n",
    "\n",
    "print(q)\n",
    "print '-------'\n",
    "show_traverse()"
   ]
  },
  {
   "cell_type": "code",
   "execution_count": null,
   "metadata": {
    "collapsed": true
   },
   "outputs": [],
   "source": []
  }
 ],
 "metadata": {
  "kernelspec": {
   "display_name": "Python 2",
   "language": "python",
   "name": "python2"
  },
  "language_info": {
   "codemirror_mode": {
    "name": "ipython",
    "version": 2
   },
   "file_extension": ".py",
   "mimetype": "text/x-python",
   "name": "python",
   "nbconvert_exporter": "python",
   "pygments_lexer": "ipython2",
   "version": "2.7.10"
  }
 },
 "nbformat": 4,
 "nbformat_minor": 0
}
